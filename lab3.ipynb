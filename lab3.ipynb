{
 "cells": [
  {
   "cell_type": "code",
   "id": "initial_id",
   "metadata": {
    "collapsed": true,
    "ExecuteTime": {
     "end_time": "2024-09-17T07:27:32.373830Z",
     "start_time": "2024-09-17T07:27:32.365518Z"
    }
   },
   "source": [
    "import pandas as pd\n",
    "import numpy as np\n",
    "import requests\n",
    "from io import StringIO"
   ],
   "outputs": [],
   "execution_count": 14
  },
  {
   "metadata": {
    "ExecuteTime": {
     "end_time": "2024-09-17T07:27:34.002607Z",
     "start_time": "2024-09-17T07:27:32.389292Z"
    }
   },
   "cell_type": "code",
   "source": [
    "url = \"https://www.ncei.noaa.gov/data/global-hourly/access/2024/01087899999.csv\"\n",
    "response = requests.get(url)\n",
    "data = StringIO(response.text)\n",
    "\n",
    "df = pd.read_csv(data)\n",
    "\n",
    "print(df.head())\n",
    "print(df.dtypes)"
   ],
   "id": "ba27b395451e96b0",
   "outputs": [
    {
     "name": "stdout",
     "output_type": "stream",
     "text": [
      "      STATION                 DATE  SOURCE  LATITUDE  LONGITUDE  ELEVATION  \\\n",
      "0  1087899999  2024-01-01T00:20:00       4     61.45   2.133333       90.0   \n",
      "1  1087899999  2024-01-01T00:50:00       4     61.45   2.133333       90.0   \n",
      "2  1087899999  2024-01-01T01:20:00       4     61.45   2.133333       90.0   \n",
      "3  1087899999  2024-01-01T01:50:00       4     61.45   2.133333       90.0   \n",
      "4  1087899999  2024-01-01T02:20:00       4     61.45   2.133333       90.0   \n",
      "\n",
      "                        NAME REPORT_TYPE  CALL_SIGN QUALITY_CONTROL  ...  AW2  \\\n",
      "0  SNORRE A OIL PLATFORM, NO       FM-15      99999            V020  ...  NaN   \n",
      "1  SNORRE A OIL PLATFORM, NO       FM-15      99999            V020  ...  NaN   \n",
      "2  SNORRE A OIL PLATFORM, NO       FM-15      99999            V020  ...  NaN   \n",
      "3  SNORRE A OIL PLATFORM, NO       FM-15      99999            V020  ...  NaN   \n",
      "4  SNORRE A OIL PLATFORM, NO       FM-15      99999            V020  ...  NaN   \n",
      "\n",
      "                  GA1                 GA2                 GA3  \\\n",
      "0  04,1,+01494,1,99,9  07,1,+01981,1,99,9  07,1,+03048,1,99,9   \n",
      "1                 NaN                 NaN                 NaN   \n",
      "2                 NaN                 NaN                 NaN   \n",
      "3                 NaN                 NaN                 NaN   \n",
      "4                 NaN                 NaN                 NaN   \n",
      "\n",
      "                      GE1                                  GF1  \\\n",
      "0  9,AGL   ,+99999,+99999  99,99,9,04,1,99,9,01494,1,99,9,99,9   \n",
      "1                     NaN                                  NaN   \n",
      "2                     NaN                                  NaN   \n",
      "3                     NaN                                  NaN   \n",
      "4                     NaN                                  NaN   \n",
      "\n",
      "               MA1     OC1                                                REM  \\\n",
      "0  09960,1,99999,9     NaN  MET086METAR ENSE 010020Z AUTO VRB04KT 9999 SCT...   \n",
      "1  09960,1,99999,9     NaN  MET057METAR ENSE 010050Z AUTO 10005KT CAVOK 07...   \n",
      "2  09960,1,99999,9     NaN  MET057METAR ENSE 010120Z AUTO VRB05KT CAVOK 08...   \n",
      "3  09960,1,99999,9  0082,1  MET068METAR ENSE 010150Z AUTO 10005G16KT 050V1...   \n",
      "4  09960,1,99999,9     NaN  MET058METAR ENSE 010220Z AUTO VRB05KT CAVOK 07...   \n",
      "\n",
      "   EQD  \n",
      "0  NaN  \n",
      "1  NaN  \n",
      "2  NaN  \n",
      "3  NaN  \n",
      "4  NaN  \n",
      "\n",
      "[5 rows x 27 columns]\n",
      "STATION              int64\n",
      "DATE                object\n",
      "SOURCE               int64\n",
      "LATITUDE           float64\n",
      "LONGITUDE          float64\n",
      "ELEVATION          float64\n",
      "NAME                object\n",
      "REPORT_TYPE         object\n",
      "CALL_SIGN            int64\n",
      "QUALITY_CONTROL     object\n",
      "WND                 object\n",
      "CIG                 object\n",
      "VIS                 object\n",
      "TMP                 object\n",
      "DEW                 object\n",
      "SLP                 object\n",
      "AW1                 object\n",
      "AW2                 object\n",
      "GA1                 object\n",
      "GA2                 object\n",
      "GA3                 object\n",
      "GE1                 object\n",
      "GF1                 object\n",
      "MA1                 object\n",
      "OC1                 object\n",
      "REM                 object\n",
      "EQD                 object\n",
      "dtype: object\n"
     ]
    }
   ],
   "execution_count": 15
  },
  {
   "metadata": {
    "ExecuteTime": {
     "end_time": "2024-09-17T07:27:34.131727Z",
     "start_time": "2024-09-17T07:27:34.075088Z"
    }
   },
   "cell_type": "code",
   "source": [
    "df['DATE'] = pd.to_datetime(df['DATE'])\n",
    "\n",
    "df['TMP'] = df['TMP'].astype(str)\n",
    "df['SLP'] = df['SLP'].astype(str)\n",
    "df['DEW'] = df['DEW'].astype(str)\n",
    "\n",
    "df['TMP'] = df['TMP'].str.slice(0, -2)\n",
    "df['SLP'] = df['SLP'].str.slice(0, -2)\n",
    "df['DEW'] = df['DEW'].str.slice(0, -2)\n",
    "\n",
    "df['TMP'] = pd.to_numeric(df['TMP'], errors='coerce')\n",
    "df['SLP'] = pd.to_numeric(df['SLP'], errors='coerce')\n",
    "df['DEW'] = pd.to_numeric(df['DEW'], errors='coerce')\n",
    "df.dropna(subset=['TMP', 'DEW', 'SLP'], inplace=True)\n",
    "\n",
    "df.drop_duplicates(inplace=True)"
   ],
   "id": "f96b9f467375e44c",
   "outputs": [],
   "execution_count": 16
  },
  {
   "metadata": {
    "ExecuteTime": {
     "end_time": "2024-09-17T07:27:34.164621Z",
     "start_time": "2024-09-17T07:27:34.149258Z"
    }
   },
   "cell_type": "code",
   "source": [
    "df['Temp_Pressure_Diff'] = df['TMP'] - df['SLP']\n",
    "\n",
    "df['MONTH'] = df['DATE'].dt.month\n",
    "\n",
    "monthly_agg = df.groupby('MONTH').agg(Average_Temp_Dew_Diff=('TMP', lambda x: (x - df.loc[x.index, 'DEW']).mean())).reset_index()\n",
    "\n",
    "print(monthly_agg)"
   ],
   "id": "6c044649115f62f2",
   "outputs": [
    {
     "name": "stdout",
     "output_type": "stream",
     "text": [
      "   MONTH  Average_Temp_Dew_Diff\n",
      "0      1              41.610284\n",
      "1      2              45.592727\n",
      "2      3              45.481481\n",
      "3      4              41.421170\n",
      "4      5              38.735067\n",
      "5      6              35.345912\n",
      "6      7              27.842179\n",
      "7      8              29.788136\n",
      "8      9              31.057692\n"
     ]
    }
   ],
   "execution_count": 17
  }
 ],
 "metadata": {
  "kernelspec": {
   "display_name": "Python 3",
   "language": "python",
   "name": "python3"
  },
  "language_info": {
   "codemirror_mode": {
    "name": "ipython",
    "version": 2
   },
   "file_extension": ".py",
   "mimetype": "text/x-python",
   "name": "python",
   "nbconvert_exporter": "python",
   "pygments_lexer": "ipython2",
   "version": "2.7.6"
  }
 },
 "nbformat": 4,
 "nbformat_minor": 5
}
