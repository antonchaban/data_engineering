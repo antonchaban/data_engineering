{
 "cells": [
  {
   "cell_type": "code",
   "execution_count": 1,
   "id": "7b9bf283-f7d6-46ba-a61e-f8c2e70bfad3",
   "metadata": {},
   "outputs": [
    {
     "name": "stdout",
     "output_type": "stream",
     "text": [
      "Collecting delta-spark==3.0.0\n",
      "  Downloading delta_spark-3.0.0-py3-none-any.whl.metadata (2.0 kB)\n",
      "Requirement already satisfied: pyspark<3.6.0,>=3.5.0 in /usr/local/spark/python (from delta-spark==3.0.0) (3.5.0)\n",
      "Requirement already satisfied: importlib-metadata>=1.0.0 in /opt/conda/lib/python3.11/site-packages (from delta-spark==3.0.0) (6.8.0)\n",
      "Requirement already satisfied: zipp>=0.5 in /opt/conda/lib/python3.11/site-packages (from importlib-metadata>=1.0.0->delta-spark==3.0.0) (3.17.0)\n",
      "Collecting py4j==0.10.9.7 (from pyspark<3.6.0,>=3.5.0->delta-spark==3.0.0)\n",
      "  Downloading py4j-0.10.9.7-py2.py3-none-any.whl.metadata (1.5 kB)\n",
      "Downloading delta_spark-3.0.0-py3-none-any.whl (21 kB)\n",
      "Downloading py4j-0.10.9.7-py2.py3-none-any.whl (200 kB)\n",
      "\u001b[2K   \u001b[90m━━━━━━━━━━━━━━━━━━━━━━━━━━━━━━━━━━━━━━━━\u001b[0m \u001b[32m200.5/200.5 kB\u001b[0m \u001b[31m3.0 MB/s\u001b[0m eta \u001b[36m0:00:00\u001b[0m \u001b[36m0:00:01\u001b[0m\n",
      "\u001b[?25hInstalling collected packages: py4j, delta-spark\n",
      "Successfully installed delta-spark-3.0.0 py4j-0.10.9.7\n"
     ]
    }
   ],
   "source": [
    "!pip install delta-spark==3.0.0"
   ]
  },
  {
   "cell_type": "code",
   "execution_count": 18,
   "id": "28ef019c-42e8-4dd8-bf64-edea18a63505",
   "metadata": {},
   "outputs": [],
   "source": [
    "from pyspark.sql import SparkSession\n",
    "from delta import *\n",
    "from pyspark.sql.types import StructType, StructField, IntegerType, StringType, FloatType"
   ]
  },
  {
   "cell_type": "code",
   "execution_count": 19,
   "id": "2766c87f-189d-4032-852a-fa1cb748e9fb",
   "metadata": {},
   "outputs": [],
   "source": [
    "builder = SparkSession.builder.appName(\"Delta Lake Farming Campaign Tracking\") \\\n",
    "    .config(\"spark.sql.extensions\", \"io.delta.sql.DeltaSparkSessionExtension\") \\\n",
    "    .config(\"spark.sql.catalog.spark_catalog\", \"org.apache.spark.sql.delta.catalog.DeltaCatalog\")\n",
    "spark = configure_spark_with_delta_pip(builder).getOrCreate()"
   ]
  },
  {
   "cell_type": "code",
   "execution_count": 20,
   "id": "9fca187c-35a6-4336-afc4-6e498477fddf",
   "metadata": {},
   "outputs": [],
   "source": [
    "schema = StructType([\n",
    "    StructField(\"campaign_id\", IntegerType(), nullable=False),\n",
    "    StructField(\"culture\", StringType(), nullable=False),\n",
    "    StructField(\"area\", FloatType(), nullable=False),\n",
    "    StructField(\"yield\", FloatType(), nullable=False),\n",
    "    StructField(\"year\", IntegerType(), nullable=False)\n",
    "])"
   ]
  },
  {
   "cell_type": "code",
   "execution_count": 21,
   "id": "344bee7b-d7b4-480d-8d7c-556c3b0aa097",
   "metadata": {},
   "outputs": [
    {
     "name": "stdout",
     "output_type": "stream",
     "text": [
      "+-----------+-------+-----+-----+----+\n",
      "|campaign_id|culture| area|yield|year|\n",
      "+-----------+-------+-----+-----+----+\n",
      "|          1|  Wheat|150.5|  3.2|2023|\n",
      "|          2|   Corn|200.0|  5.1|2023|\n",
      "|          3| Barley|120.3|  2.8|2023|\n",
      "|          1|  Wheat|160.0|  3.5|2022|\n",
      "|          2|   Corn|195.0|  5.0|2022|\n",
      "|          3| Barley|115.0|  2.7|2022|\n",
      "|          1|  Wheat|140.0|  3.0|2021|\n",
      "|          2|   Corn|180.0|  4.8|2021|\n",
      "|          3| Barley|110.0|  2.6|2021|\n",
      "+-----------+-------+-----+-----+----+\n",
      "\n"
     ]
    }
   ],
   "source": [
    "data = [\n",
    "    (1, \"Wheat\", 150.5, 3.2, 2023),\n",
    "    (2, \"Corn\", 200.0, 5.1, 2023),\n",
    "    (3, \"Barley\", 120.3, 2.8, 2023),\n",
    "    (1, \"Wheat\", 160.0, 3.5, 2022),\n",
    "    (2, \"Corn\", 195.0, 5.0, 2022),\n",
    "    (3, \"Barley\", 115.0, 2.7, 2022),\n",
    "    (1, \"Wheat\", 140.0, 3.0, 2021),\n",
    "    (2, \"Corn\", 180.0, 4.8, 2021),\n",
    "    (3, \"Barley\", 110.0, 2.6, 2021)\n",
    "]\n",
    "df = spark.createDataFrame(data, schema=schema)\n",
    "df.show()\n"
   ]
  },
  {
   "cell_type": "code",
   "execution_count": 27,
   "id": "4b5e836b-df85-430c-b6b6-8e40ffa0ee67",
   "metadata": {},
   "outputs": [],
   "source": [
    "DeltaTable.createIfNotExists(spark) \\\n",
    "    .tableName(\"farming_campaign\") \\\n",
    "    .property(\"delta.enableChangeDataFeed\", \"true\") \\\n",
    "    .addColumns(schema) \\\n",
    "    .execute()\n",
    "\n",
    "df.write.format(\"delta\").mode(\"overwrite\").saveAsTable(\"farming_campaign\")"
   ]
  },
  {
   "cell_type": "code",
   "execution_count": 29,
   "id": "c3db07de-eeb7-47f8-a41c-9d03a32e49c6",
   "metadata": {},
   "outputs": [
    {
     "name": "stdout",
     "output_type": "stream",
     "text": [
      "+-----------+-------+-----+-----+----+\n",
      "|campaign_id|culture| area|yield|year|\n",
      "+-----------+-------+-----+-----+----+\n",
      "|          2|   Corn|210.0|  5.3|2023|\n",
      "|          4|Soybean|180.0|  3.6|2023|\n",
      "|          1|  Wheat|155.0|  3.4|2024|\n",
      "|          3| Barley|125.0|  3.0|2024|\n",
      "+-----------+-------+-----+-----+----+\n",
      "\n"
     ]
    }
   ],
   "source": [
    "new_data = [\n",
    "    (2, \"Corn\", 210.0, 5.3, 2023), \n",
    "    (4, \"Soybean\", 180.0, 3.6, 2023), \n",
    "    (1, \"Wheat\", 155.0, 3.4, 2024), \n",
    "    (3, \"Barley\", 125.0, 3.0, 2024) \n",
    "]\n",
    "new_df = spark.createDataFrame(new_data, schema=schema)\n",
    "new_df.show()"
   ]
  },
  {
   "cell_type": "code",
   "execution_count": 30,
   "id": "ca36da0d-c4d5-4788-bb25-a79881790f9d",
   "metadata": {},
   "outputs": [],
   "source": [
    "from delta.tables import DeltaTable\n",
    "\n",
    "delta_table = DeltaTable.forName(spark, \"farming_campaign\")"
   ]
  },
  {
   "cell_type": "code",
   "execution_count": 31,
   "id": "b2e7c0d3-b15a-4cc9-b78c-db60f03e1b3c",
   "metadata": {},
   "outputs": [
    {
     "name": "stdout",
     "output_type": "stream",
     "text": [
      "+-----------+-------+-----+-----+----+\n",
      "|campaign_id|culture| area|yield|year|\n",
      "+-----------+-------+-----+-----+----+\n",
      "|          1|  Wheat|155.0|  3.4|2024|\n",
      "|          2|   Corn|210.0|  5.3|2023|\n",
      "|          3| Barley|125.0|  3.0|2024|\n",
      "|          4|Soybean|180.0|  3.6|2023|\n",
      "|          2|   Corn|180.0|  4.8|2021|\n",
      "|          3| Barley|110.0|  2.6|2021|\n",
      "|          3| Barley|115.0|  2.7|2022|\n",
      "|          3| Barley|120.3|  2.8|2023|\n",
      "|          1|  Wheat|160.0|  3.5|2022|\n",
      "|          1|  Wheat|150.5|  3.2|2023|\n",
      "|          1|  Wheat|140.0|  3.0|2021|\n",
      "|          2|   Corn|195.0|  5.0|2022|\n",
      "+-----------+-------+-----+-----+----+\n",
      "\n"
     ]
    }
   ],
   "source": [
    "delta_table.alias(\"old_data\") \\\n",
    "    .merge(\n",
    "        new_df.alias(\"new_data\"),\n",
    "        \"old_data.campaign_id = new_data.campaign_id AND old_data.year = new_data.year\"\n",
    "    ) \\\n",
    "    .whenMatchedUpdate(set={\"area\": \"new_data.area\", \"yield\": \"new_data.yield\", \"culture\": \"new_data.culture\", \"year\": \"new_data.year\"}) \\\n",
    "    .whenNotMatchedInsert(values={\"campaign_id\": \"new_data.campaign_id\", \"culture\": \"new_data.culture\", \"area\": \"new_data.area\", \"yield\": \"new_data.yield\", \"year\": \"new_data.year\"}) \\\n",
    "    .execute()\n",
    "\n",
    "delta_table.toDF().show()"
   ]
  },
  {
   "cell_type": "code",
   "execution_count": 32,
   "id": "36d755ed-c20e-402c-ace5-b2704da10cdd",
   "metadata": {},
   "outputs": [
    {
     "name": "stdout",
     "output_type": "stream",
     "text": [
      "+-----------+-------+-----+-----+----+----------------+---------------+--------------------+\n",
      "|campaign_id|culture| area|yield|year|    _change_type|_commit_version|   _commit_timestamp|\n",
      "+-----------+-------+-----+-----+----+----------------+---------------+--------------------+\n",
      "|          1|  Wheat|155.0|  3.4|2024|          insert|              8|2024-10-27 11:37:...|\n",
      "|          2|   Corn|200.0|  5.1|2023| update_preimage|              8|2024-10-27 11:37:...|\n",
      "|          2|   Corn|210.0|  5.3|2023|update_postimage|              8|2024-10-27 11:37:...|\n",
      "|          3| Barley|125.0|  3.0|2024|          insert|              8|2024-10-27 11:37:...|\n",
      "|          4|Soybean|180.0|  3.6|2023|          insert|              8|2024-10-27 11:37:...|\n",
      "|          1|  Wheat|155.0|  3.4|2024|          insert|             10|2024-10-27 11:45:...|\n",
      "|          2|   Corn|200.0|  5.1|2023| update_preimage|             10|2024-10-27 11:45:...|\n",
      "|          2|   Corn|210.0|  5.3|2023|update_postimage|             10|2024-10-27 11:45:...|\n",
      "|          3| Barley|125.0|  3.0|2024|          insert|             10|2024-10-27 11:45:...|\n",
      "|          4|Soybean|180.0|  3.6|2023|          insert|             10|2024-10-27 11:45:...|\n",
      "|          2|   Corn|200.0|  5.1|2023| update_preimage|              2|2024-10-27 11:17:...|\n",
      "|          2|   Corn|210.0|  5.3|2023|update_postimage|              2|2024-10-27 11:17:...|\n",
      "|          4|Soybean|180.0|  3.6|2023|          insert|              2|2024-10-27 11:17:...|\n",
      "|          2|   Corn|210.0|  5.3|2023|          insert|              5|2024-10-27 11:20:...|\n",
      "|          4|Soybean|180.0|  3.6|2023|          insert|              5|2024-10-27 11:20:...|\n",
      "|          2|   Corn|180.0|  4.8|2021|          insert|              7|2024-10-27 11:37:...|\n",
      "|          3| Barley|110.0|  2.6|2021|          insert|              7|2024-10-27 11:37:...|\n",
      "|          2|   Corn|180.0|  4.8|2021|          insert|              9|2024-10-27 11:40:...|\n",
      "|          3| Barley|110.0|  2.6|2021|          insert|              9|2024-10-27 11:40:...|\n",
      "|          3| Barley|115.0|  2.7|2022|          insert|              7|2024-10-27 11:37:...|\n",
      "+-----------+-------+-----+-----+----+----------------+---------------+--------------------+\n",
      "only showing top 20 rows\n",
      "\n"
     ]
    }
   ],
   "source": [
    "cdf = spark.read.format(\"delta\") \\\n",
    "    .option(\"readChangeFeed\", \"true\") \\\n",
    "    .option(\"startingVersion\", \"0\") \\\n",
    "    .table(\"farming_campaign\")\n",
    "cdf.show()"
   ]
  },
  {
   "cell_type": "code",
   "execution_count": 33,
   "id": "61fdf1f0-7a63-4c09-ac6c-b0552df8ceaf",
   "metadata": {},
   "outputs": [
    {
     "name": "stdout",
     "output_type": "stream",
     "text": [
      "+-------+--------------------+------+--------+--------------------+--------------------+----+--------+---------+-----------+--------------+-------------+--------------------+------------+--------------------+\n",
      "|version|           timestamp|userId|userName|           operation| operationParameters| job|notebook|clusterId|readVersion|isolationLevel|isBlindAppend|    operationMetrics|userMetadata|          engineInfo|\n",
      "+-------+--------------------+------+--------+--------------------+--------------------+----+--------+---------+-----------+--------------+-------------+--------------------+------------+--------------------+\n",
      "|     10|2024-10-27 11:45:...|  NULL|    NULL|               MERGE|{predicate -> [\"(...|NULL|    NULL|     NULL|          9|  Serializable|        false|{numTargetRowsCop...|        NULL|Apache-Spark/3.5....|\n",
      "|      9|2024-10-27 11:40:...|  NULL|    NULL|CREATE OR REPLACE...|{isManaged -> tru...|NULL|    NULL|     NULL|          8|  Serializable|        false|{numFiles -> 8, n...|        NULL|Apache-Spark/3.5....|\n",
      "|      8|2024-10-27 11:37:...|  NULL|    NULL|               MERGE|{predicate -> [\"(...|NULL|    NULL|     NULL|          7|  Serializable|        false|{numTargetRowsCop...|        NULL|Apache-Spark/3.5....|\n",
      "|      7|2024-10-27 11:37:...|  NULL|    NULL|CREATE OR REPLACE...|{isManaged -> tru...|NULL|    NULL|     NULL|          6|  Serializable|        false|{numFiles -> 8, n...|        NULL|Apache-Spark/3.5....|\n",
      "|      6|2024-10-27 11:20:...|  NULL|    NULL|             RESTORE|{version -> 1, ti...|NULL|    NULL|     NULL|          5|  Serializable|        false|{numRestoredFiles...|        NULL|Apache-Spark/3.5....|\n",
      "|      5|2024-10-27 11:20:...|  NULL|    NULL|             RESTORE|{version -> 2, ti...|NULL|    NULL|     NULL|          4|  Serializable|        false|{numRestoredFiles...|        NULL|Apache-Spark/3.5....|\n",
      "|      4|2024-10-27 11:20:...|  NULL|    NULL|             RESTORE|{version -> 1, ti...|NULL|    NULL|     NULL|          3|  Serializable|        false|{numRestoredFiles...|        NULL|Apache-Spark/3.5....|\n",
      "|      3|2024-10-27 11:19:...|  NULL|    NULL|             RESTORE|{version -> 0, ti...|NULL|    NULL|     NULL|          2|  Serializable|        false|{numRestoredFiles...|        NULL|Apache-Spark/3.5....|\n",
      "|      2|2024-10-27 11:17:...|  NULL|    NULL|               MERGE|{predicate -> [\"(...|NULL|    NULL|     NULL|          1|  Serializable|        false|{numTargetRowsCop...|        NULL|Apache-Spark/3.5....|\n",
      "|      1|2024-10-27 11:17:...|  NULL|    NULL|CREATE OR REPLACE...|{isManaged -> tru...|NULL|    NULL|     NULL|          0|  Serializable|        false|{numFiles -> 4, n...|        NULL|Apache-Spark/3.5....|\n",
      "|      0|2024-10-27 11:17:...|  NULL|    NULL|        CREATE TABLE|{isManaged -> tru...|NULL|    NULL|     NULL|       NULL|  Serializable|         true|                  {}|        NULL|Apache-Spark/3.5....|\n",
      "+-------+--------------------+------+--------+--------------------+--------------------+----+--------+---------+-----------+--------------+-------------+--------------------+------------+--------------------+\n",
      "\n"
     ]
    }
   ],
   "source": [
    "delta_table.history().show()"
   ]
  },
  {
   "cell_type": "code",
   "execution_count": 45,
   "id": "30ac46d6-33e0-4bc9-97a9-3695e5e26d5d",
   "metadata": {},
   "outputs": [
    {
     "name": "stdout",
     "output_type": "stream",
     "text": [
      "+-----------+-------+-----+-----+----+\n",
      "|campaign_id|culture| area|yield|year|\n",
      "+-----------+-------+-----+-----+----+\n",
      "|          3| Barley|120.3|  2.8|2023|\n",
      "|          1|  Wheat|150.5|  3.2|2023|\n",
      "|          2|   Corn|200.0|  5.1|2023|\n",
      "+-----------+-------+-----+-----+----+\n",
      "\n"
     ]
    }
   ],
   "source": [
    "previous_version_df = spark.read.format(\"delta\").option(\"versionAsOf\", 1).table(\"farming_campaign\")\n",
    "previous_version_df.show()"
   ]
  },
  {
   "cell_type": "code",
   "execution_count": 46,
   "id": "d4fa6e1a-9006-4e50-ac6a-442f81c03218",
   "metadata": {},
   "outputs": [
    {
     "name": "stdout",
     "output_type": "stream",
     "text": [
      "+-----------+-------+-----+-----+----+\n",
      "|campaign_id|culture| area|yield|year|\n",
      "+-----------+-------+-----+-----+----+\n",
      "|          1|  Wheat|155.0|  3.4|2024|\n",
      "|          2|   Corn|210.0|  5.3|2023|\n",
      "|          3| Barley|125.0|  3.0|2024|\n",
      "|          4|Soybean|180.0|  3.6|2023|\n",
      "|          2|   Corn|180.0|  4.8|2021|\n",
      "|          3| Barley|110.0|  2.6|2021|\n",
      "|          3| Barley|115.0|  2.7|2022|\n",
      "|          3| Barley|120.3|  2.8|2023|\n",
      "|          1|  Wheat|160.0|  3.5|2022|\n",
      "|          1|  Wheat|150.5|  3.2|2023|\n",
      "|          1|  Wheat|140.0|  3.0|2021|\n",
      "|          2|   Corn|195.0|  5.0|2022|\n",
      "+-----------+-------+-----+-----+----+\n",
      "\n"
     ]
    }
   ],
   "source": [
    "delta_table.toDF().show()"
   ]
  },
  {
   "cell_type": "code",
   "execution_count": 48,
   "id": "3cf7d3e8-1f6c-4867-ad5a-580f9f2c5f92",
   "metadata": {},
   "outputs": [
    {
     "name": "stdout",
     "output_type": "stream",
     "text": [
      "+-----------+-------+-----+-----+----+\n",
      "|campaign_id|culture| area|yield|year|\n",
      "+-----------+-------+-----+-----+----+\n",
      "|          3| Barley|120.3|  2.8|2023|\n",
      "|          1|  Wheat|150.5|  3.2|2023|\n",
      "|          2|   Corn|200.0|  5.1|2023|\n",
      "+-----------+-------+-----+-----+----+\n",
      "\n"
     ]
    }
   ],
   "source": [
    "delta_table.restoreToVersion(1)\n",
    "delta_table.toDF().show()"
   ]
  },
  {
   "cell_type": "code",
   "execution_count": null,
   "id": "ec8d6601-1d34-4ccc-9741-81d6eb8ed136",
   "metadata": {},
   "outputs": [],
   "source": [
    "spark.stop()"
   ]
  }
 ],
 "metadata": {
  "kernelspec": {
   "display_name": "Python 3 (ipykernel)",
   "language": "python",
   "name": "python3"
  },
  "language_info": {
   "codemirror_mode": {
    "name": "ipython",
    "version": 3
   },
   "file_extension": ".py",
   "mimetype": "text/x-python",
   "name": "python",
   "nbconvert_exporter": "python",
   "pygments_lexer": "ipython3",
   "version": "3.11.6"
  }
 },
 "nbformat": 4,
 "nbformat_minor": 5
}
