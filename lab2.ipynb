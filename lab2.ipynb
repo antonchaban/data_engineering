{
 "cells": [
  {
   "cell_type": "code",
   "id": "initial_id",
   "metadata": {
    "collapsed": true,
    "ExecuteTime": {
     "end_time": "2024-09-17T06:26:05.207783Z",
     "start_time": "2024-09-17T06:26:05.199516Z"
    }
   },
   "source": [
    "import requests\n",
    "import sqlite3"
   ],
   "outputs": [],
   "execution_count": 5
  },
  {
   "metadata": {
    "ExecuteTime": {
     "end_time": "2024-09-17T06:26:05.654739Z",
     "start_time": "2024-09-17T06:26:05.226704Z"
    }
   },
   "cell_type": "code",
   "source": [
    "url = \"https://opentdb.com/api.php?amount=10&category=17&difficulty=easy\"\n",
    "response = requests.get(url)\n",
    "trivia_data = response.json()"
   ],
   "id": "b7d6c06318b2a3b5",
   "outputs": [],
   "execution_count": 6
  },
  {
   "metadata": {
    "ExecuteTime": {
     "end_time": "2024-09-17T06:26:05.701620Z",
     "start_time": "2024-09-17T06:26:05.694752Z"
    }
   },
   "cell_type": "code",
   "source": [
    "conn = sqlite3.connect('trivia.db')\n",
    "c = conn.cursor()\n",
    "\n",
    "c.execute('''\n",
    "CREATE TABLE IF NOT EXISTS trivia (\n",
    "    id INTEGER PRIMARY KEY AUTOINCREMENT,\n",
    "    question TEXT,\n",
    "    correct_answer TEXT,\n",
    "    incorrect_answers TEXT\n",
    ")\n",
    "''')"
   ],
   "id": "d2026d855088b62b",
   "outputs": [
    {
     "data": {
      "text/plain": [
       "<sqlite3.Cursor at 0x7f9d2e13e940>"
      ]
     },
     "execution_count": 7,
     "metadata": {},
     "output_type": "execute_result"
    }
   ],
   "execution_count": 7
  },
  {
   "metadata": {
    "ExecuteTime": {
     "end_time": "2024-09-17T06:26:05.783665Z",
     "start_time": "2024-09-17T06:26:05.770634Z"
    }
   },
   "cell_type": "code",
   "source": [
    "for result in trivia_data['results']:\n",
    "    question = result['question']\n",
    "    correct_answer = result['correct_answer']\n",
    "    incorrect_answers = ', '.join(result['incorrect_answers'])\n",
    "    \n",
    "    c.execute('INSERT INTO trivia (question, correct_answer, incorrect_answers) VALUES (?, ?, ?)',\n",
    "              (question, correct_answer, incorrect_answers))\n",
    "\n",
    "conn.commit()\n",
    "\n",
    "c.execute('SELECT * FROM trivia')\n",
    "results = c.fetchall()\n",
    "for row in results:\n",
    "    print(row)\n",
    "\n",
    "conn.close()"
   ],
   "id": "4465529257d77309",
   "outputs": [
    {
     "name": "stdout",
     "output_type": "stream",
     "text": [
      "(1, 'An atom contains a nucleus.', 'True', 'False')\n",
      "(2, 'Which Apollo mission was the first one to land on the Moon?', 'Apollo 11', 'Apollo 10, Apollo 9, Apollo 13')\n",
      "(3, 'What is the standard atomic weight of a Plutonium nucleus?', '244', '94, 481, 128')\n",
      "(4, 'Dry ice is the solid form of what substance?', 'Carbon dioxide', 'Nitrogen, Ammonia, Oxygen')\n",
      "(5, 'What is the largest animal currently on Earth?', 'Blue Whale', 'Orca, Colossal Squid, Giraffe')\n",
      "(6, 'Psychology is the science of behavior and mind.', 'True', 'False')\n",
      "(7, 'Which element has the chemical symbol &#039;Fe&#039;?', 'Iron', 'Gold, Silver, Tin')\n",
      "(8, 'What does LASER stand for?', 'Light amplification by stimulated emission of radiation', 'Lite analysing by stereo ecorazer, Light amplifier by standby energy of radio, Life antimatter by standing entry of range')\n",
      "(9, 'How many bones are in the human body?', '206', '203, 209, 200')\n",
      "(10, 'What is the first element on the periodic table?', 'Hydrogen', 'Helium, Oxygen, Lithium')\n",
      "(11, 'What is the chemical makeup of water?', 'H20', 'C12H6O2, CO2, H')\n",
      "(12, 'A plant that has a life cycle for more than a year is known as an annual.', 'False', 'True')\n",
      "(13, 'Rhinoplasty is a surgical procedure on what part of the human body?', 'Nose', 'Ears, Chin, Neck')\n",
      "(14, 'What is the speed of light in a vacuum?', '299,792,458 m/s', '50,461 m/s, 308,215,043 m/s, 751,665,014,151 m/s')\n",
      "(15, 'Which element has the highest melting point?', 'Carbon', 'Tungsten, Platinum, Osmium')\n",
      "(16, 'Psychology is the science of behavior and mind.', 'True', 'False')\n",
      "(17, 'How many planets make up our Solar System?', '8', '7, 9, 6')\n",
      "(18, 'Which of these Elements is a metalloid?', 'Antimony', 'Tin, Bromine, Rubidium')\n",
      "(19, 'The human heart has how many chambers?', '4', '2, 6, 3')\n",
      "(20, 'What is the hottest planet in the Solar System?', 'Venus', 'Mars, Mercury, Jupiter')\n"
     ]
    }
   ],
   "execution_count": 8
  }
 ],
 "metadata": {
  "kernelspec": {
   "display_name": "Python 3",
   "language": "python",
   "name": "python3"
  },
  "language_info": {
   "codemirror_mode": {
    "name": "ipython",
    "version": 2
   },
   "file_extension": ".py",
   "mimetype": "text/x-python",
   "name": "python",
   "nbconvert_exporter": "python",
   "pygments_lexer": "ipython2",
   "version": "2.7.6"
  }
 },
 "nbformat": 4,
 "nbformat_minor": 5
}
