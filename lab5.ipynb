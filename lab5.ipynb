{
 "cells": [
  {
   "cell_type": "code",
   "id": "initial_id",
   "metadata": {
    "collapsed": true,
    "ExecuteTime": {
     "end_time": "2024-10-08T13:30:04.581196Z",
     "start_time": "2024-10-08T13:30:04.058389Z"
    }
   },
   "source": [
    "from pyspark.sql import SparkSession\n",
    "from pyspark.sql.functions import col, when"
   ],
   "outputs": [],
   "execution_count": 2
  },
  {
   "metadata": {
    "ExecuteTime": {
     "end_time": "2024-10-08T13:30:09.258139Z",
     "start_time": "2024-10-08T13:30:06.041169Z"
    }
   },
   "cell_type": "code",
   "source": [
    "spark = SparkSession.builder \\\n",
    "    .appName(\"Basic Spark Lab\") \\\n",
    "    .getOrCreate()\n",
    "\n",
    "print(f\"Spark Version: {spark.version}\")"
   ],
   "id": "a001cf6afdc3aac0",
   "outputs": [
    {
     "name": "stdout",
     "output_type": "stream",
     "text": [
      "Spark Version: 3.5.0\n"
     ]
    }
   ],
   "execution_count": 3
  },
  {
   "metadata": {
    "ExecuteTime": {
     "end_time": "2024-10-08T13:30:13.954109Z",
     "start_time": "2024-10-08T13:30:11.684941Z"
    }
   },
   "cell_type": "code",
   "source": [
    "# Створення DataFrame з даними про міста\n",
    "data = [\n",
    "    (\"Rome\", \"Italy\", 2873000),\n",
    "    (\"Vienna\", \"Austria\", 1900000),\n",
    "    (\"Berlin\", \"Germany\", 3669000)\n",
    "]\n",
    "columns = [\"City\", \"Country\", \"Population\"]\n",
    "df = spark.createDataFrame(data, schema=columns)"
   ],
   "id": "5f8c41271e7cc225",
   "outputs": [],
   "execution_count": 4
  },
  {
   "metadata": {
    "ExecuteTime": {
     "end_time": "2024-10-08T13:30:19.102161Z",
     "start_time": "2024-10-08T13:30:16.084127Z"
    }
   },
   "cell_type": "code",
   "source": "df.show()",
   "id": "39606681abf5a59b",
   "outputs": [
    {
     "name": "stdout",
     "output_type": "stream",
     "text": [
      "+------+-------+----------+\n",
      "|  City|Country|Population|\n",
      "+------+-------+----------+\n",
      "|  Rome|  Italy|   2873000|\n",
      "|Vienna|Austria|   1900000|\n",
      "|Berlin|Germany|   3669000|\n",
      "+------+-------+----------+\n",
      "\n"
     ]
    }
   ],
   "execution_count": 5
  },
  {
   "metadata": {
    "ExecuteTime": {
     "end_time": "2024-10-08T13:30:22.196153Z",
     "start_time": "2024-10-08T13:30:21.573919Z"
    }
   },
   "cell_type": "code",
   "source": [
    "# Сортування міст за населенням\n",
    "df_sorted = df.orderBy(col(\"Population\"))\n",
    "df_sorted.show()"
   ],
   "id": "e1efd54c084412bb",
   "outputs": [
    {
     "name": "stdout",
     "output_type": "stream",
     "text": [
      "+------+-------+----------+\n",
      "|  City|Country|Population|\n",
      "+------+-------+----------+\n",
      "|Vienna|Austria|   1900000|\n",
      "|  Rome|  Italy|   2873000|\n",
      "|Berlin|Germany|   3669000|\n",
      "+------+-------+----------+\n",
      "\n"
     ]
    }
   ],
   "execution_count": 6
  },
  {
   "metadata": {
    "ExecuteTime": {
     "end_time": "2024-10-08T13:30:41.948195Z",
     "start_time": "2024-10-08T13:30:41.561651Z"
    }
   },
   "cell_type": "code",
   "source": [
    "# Пошук міста з найбільшим населенням\n",
    "most_populated_city = df.orderBy(col(\"Population\").desc()).limit(1)\n",
    "most_populated_city.show()"
   ],
   "id": "321ddb579746371b",
   "outputs": [
    {
     "name": "stdout",
     "output_type": "stream",
     "text": [
      "+------+-------+----------+\n",
      "|  City|Country|Population|\n",
      "+------+-------+----------+\n",
      "|Berlin|Germany|   3669000|\n",
      "+------+-------+----------+\n",
      "\n"
     ]
    }
   ],
   "execution_count": 7
  },
  {
   "metadata": {
    "ExecuteTime": {
     "end_time": "2024-10-08T13:30:45.313067Z",
     "start_time": "2024-10-08T13:30:44.661557Z"
    }
   },
   "cell_type": "code",
   "source": [
    "df_with_category = df.withColumn(\n",
    "    \"Population_Category\",\n",
    "    when(col(\"Population\") < 2000000, \"Маленьке\")\n",
    "    .when((col(\"Population\") >= 2000000) & (col(\"Population\") < 3000000), \"Середнє\")\n",
    "    .otherwise(\"Велике\")\n",
    ")\n",
    "df_with_category.show()"
   ],
   "id": "b0ebcdc5021ceaf7",
   "outputs": [
    {
     "name": "stdout",
     "output_type": "stream",
     "text": [
      "+------+-------+----------+-------------------+\n",
      "|  City|Country|Population|Population_Category|\n",
      "+------+-------+----------+-------------------+\n",
      "|  Rome|  Italy|   2873000|            Середнє|\n",
      "|Vienna|Austria|   1900000|           Маленьке|\n",
      "|Berlin|Germany|   3669000|             Велике|\n",
      "+------+-------+----------+-------------------+\n",
      "\n"
     ]
    }
   ],
   "execution_count": 8
  },
  {
   "metadata": {
    "jupyter": {
     "is_executing": true
    }
   },
   "cell_type": "code",
   "source": "spark.stop()",
   "id": "9249bed4bfcf4406",
   "outputs": [],
   "execution_count": null
  }
 ],
 "metadata": {
  "kernelspec": {
   "display_name": "Python 3",
   "language": "python",
   "name": "python3"
  },
  "language_info": {
   "codemirror_mode": {
    "name": "ipython",
    "version": 2
   },
   "file_extension": ".py",
   "mimetype": "text/x-python",
   "name": "python",
   "nbconvert_exporter": "python",
   "pygments_lexer": "ipython2",
   "version": "2.7.6"
  }
 },
 "nbformat": 4,
 "nbformat_minor": 5
}
