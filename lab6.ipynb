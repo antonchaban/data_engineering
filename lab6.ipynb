{
 "cells": [
  {
   "cell_type": "code",
   "execution_count": 30,
   "id": "d85c955f-2dcf-41a8-b99f-f423737ae0c4",
   "metadata": {},
   "outputs": [],
   "source": [
    "from pyspark.sql import SparkSession\n",
    "import requests\n",
    "import pandas as pd\n",
    "from pyspark.sql.functions import max, count"
   ]
  },
  {
   "cell_type": "code",
   "execution_count": 31,
   "id": "b16576dc-2b02-47fe-87db-63bd5439dd41",
   "metadata": {},
   "outputs": [],
   "source": [
    "spark = SparkSession.builder \\\n",
    "    .appName(\"Whisky Auction Data Processing Lab\") \\\n",
    "    .getOrCreate()"
   ]
  },
  {
   "cell_type": "code",
   "execution_count": 32,
   "id": "5cce2223-bfcd-4447-9f96-9cf4c4e561ee",
   "metadata": {},
   "outputs": [],
   "source": [
    "# Отримання даних з Whisky API\n",
    "api_url = \"https://whiskyhunter.net/api/auctions_data/\"\n",
    "response = requests.get(api_url)\n",
    "auctions_data = response.json()"
   ]
  },
  {
   "cell_type": "code",
   "execution_count": 33,
   "id": "505fcc58-faf7-4689-9e25-e95b5ee4fd20",
   "metadata": {},
   "outputs": [],
   "source": [
    "# Перетворио дані у DataFrame\n",
    "auctions = [{\n",
    "    'auction_date': auction.get('dt'),\n",
    "    'auction_name': auction.get('auction_name'),\n",
    "    'auction_slug': auction.get('auction_slug'),\n",
    "    'winning_bid_max': auction.get('winning_bid_max', 0),\n",
    "    'winning_bid_min': auction.get('winning_bid_min', 0),\n",
    "    'winning_bid_mean': auction.get('winning_bid_mean', 0),\n",
    "    'auction_trading_volume': auction.get('auction_trading_volume', 0),\n",
    "    'auction_lots_count': auction.get('auction_lots_count', 0)\n",
    "} for auction in auctions_data]"
   ]
  },
  {
   "cell_type": "code",
   "execution_count": 34,
   "id": "bfa0ee95-c34c-43e1-97ba-552d9e431e02",
   "metadata": {},
   "outputs": [
    {
     "name": "stdout",
     "output_type": "stream",
     "text": [
      "+------------+---------------------------+--------------------------+---------------+---------------+----------------+----------------------+------------------+\n",
      "|auction_date|auction_name               |auction_slug              |winning_bid_max|winning_bid_min|winning_bid_mean|auction_trading_volume|auction_lots_count|\n",
      "+------------+---------------------------+--------------------------+---------------+---------------+----------------+----------------------+------------------+\n",
      "|2024-09-01  |Australian Whisky Auctions |australian-whisky-auctions|8014.0         |4.7            |189.47          |202164.7              |1067              |\n",
      "|2024-09-01  |Bonhams Whisky Auction     |bonhams                   |7000.0         |190.0          |964.31          |62680.0               |65                |\n",
      "|2024-09-01  |Catawiki Whisky Auction    |catawiki                  |12637.2        |0.8            |174.67          |950225.3              |5440              |\n",
      "|2024-09-01  |Celtic Whiskey Auction     |celtic-whiskey-auction    |2998.5         |9.3            |195.8           |15076.9               |77                |\n",
      "|2024-09-01  |Ebay Whisky Auctions       |ebay-whisky-auctions      |2956.2         |0.8            |115.53          |199869.3              |1730              |\n",
      "|2024-09-01  |European Whisky Auctions   |european-whisky-auctions  |2505.8         |11.7           |204.69          |61406.0               |300               |\n",
      "|2024-09-01  |Highland Whisky Auctions   |highland-whisky-auctions  |7200.0         |4.0            |152.05          |107042.0              |704               |\n",
      "|2024-09-01  |Irish Whiskey Auctions     |irish-whiskey-auctions    |3971.5         |8.4            |190.43          |227564.7              |1195              |\n",
      "|2024-09-01  |Just Whisky Auctions       |just-whisky               |32000.0        |5.0            |227.36          |231226.73             |1017              |\n",
      "|2024-09-01  |McTear’s Whisky Auction    |mctears                   |8000.0         |20.0           |216.53          |88345.0               |408               |\n",
      "|2024-09-01  |Prestige Whisky Auction    |prestige-whisky-auction   |6000.0         |4.0            |145.88          |42158.5               |289               |\n",
      "|2024-09-01  |Rum Auctioneer             |rumauctioneer             |10000.0        |15.0           |250.47          |183096.0              |731               |\n",
      "|2024-09-01  |Sotheby's Whisky Auction   |sothebys-whisky-auction   |57118.9        |38.4           |2257.22         |665879.8              |295               |\n",
      "|2024-09-01  |Speyside Whisky Auctions   |speyside-whisky-auctions  |5900.0         |20.0           |168.37          |91255.0               |542               |\n",
      "|2024-09-01  |The Grand Whisky Auction   |thegrandwhiskyauction     |10250.0        |4.0            |195.81          |360684.0              |1842              |\n",
      "|2024-09-01  |The Whisky Shop Auctions   |the-whisky-shop-auctions  |7100.0         |16.0           |167.41          |211440.0              |1263              |\n",
      "|2024-09-01  |Unicorn Auctions           |unicorn-auctions          |27736.5        |3.8            |243.4           |2866065.9             |11775             |\n",
      "|2024-09-01  |Waddington's Whisky Auction|waddingtons-whisky-auction|2522.1         |28.0           |238.48          |78220.6               |328               |\n",
      "|2024-09-01  |Whiskey Bidders            |whiskey-bidders           |1754.0         |3.3            |168.05          |81503.0               |485               |\n",
      "|2024-09-01  |Whisky.Auction             |whiskyauction             |4700.0         |6.0            |250.74          |268295.0              |1070              |\n",
      "+------------+---------------------------+--------------------------+---------------+---------------+----------------+----------------------+------------------+\n",
      "only showing top 20 rows\n",
      "\n"
     ]
    }
   ],
   "source": [
    "df_auctions = pd.DataFrame(auctions)\n",
    "auctions_df = spark.createDataFrame(df_auctions)\n",
    "auctions_df.show(truncate=False)"
   ]
  },
  {
   "cell_type": "code",
   "execution_count": 35,
   "id": "2efcceb5-d254-45e1-a500-3dc3f9de461f",
   "metadata": {},
   "outputs": [
    {
     "name": "stdout",
     "output_type": "stream",
     "text": [
      "+------------+-----------------------+--------------------+---------------+---------------+----------------+----------------------+------------------+\n",
      "|auction_date|auction_name           |auction_slug        |winning_bid_max|winning_bid_min|winning_bid_mean|auction_trading_volume|auction_lots_count|\n",
      "+------------+-----------------------+--------------------+---------------+---------------+----------------+----------------------+------------------+\n",
      "|2024-09-01  |Catawiki Whisky Auction|catawiki            |12637.2        |0.8            |174.67          |950225.3              |5440              |\n",
      "|2024-09-01  |Unicorn Auctions       |unicorn-auctions    |27736.5        |3.8            |243.4           |2866065.9             |11775             |\n",
      "|2024-08-01  |Scotch Whisky Auctions |scotchwhiskyauctions|48000.0        |15.0           |204.1           |2299235.0             |11265             |\n",
      "|2024-08-01  |Unicorn Auctions       |unicorn-auctions    |28947.2        |3.9            |239.97          |1748919.3             |7288              |\n",
      "|2024-08-01  |Whisky Auctioneer      |whiskyauctioneer    |26501.0        |15.0           |373.86          |2215125.0             |5925              |\n",
      "|2024-07-01  |Unicorn Auctions       |unicorn-auctions    |18511.3        |3.9            |199.27          |2297342.6             |11529             |\n",
      "|2024-07-01  |WhiskyAuction.com      |whiskyauctioncom    |8057.6         |0.8            |138.44          |959830.5              |6933              |\n",
      "|2024-07-01  |Whisky Auctioneer      |whiskyauctioneer    |150000.0       |15.0           |366.2           |2505918.0             |6843              |\n",
      "|2024-06-01  |Unicorn Auctions       |unicorn-auctions    |165877.4       |3.9            |243.68          |2784018.8             |11425             |\n",
      "|2024-06-01  |WhiskyAuction.com      |whiskyauctioncom    |11320.6        |0.9            |159.27          |1159608.6             |7281              |\n",
      "|2024-06-01  |Whisky Auctioneer      |whiskyauctioneer    |50000.0        |15.0           |405.53          |3054894.0             |7533              |\n",
      "|2024-05-01  |Scotch Whisky Auctions |scotchwhiskyauctions|30000.0        |20.0           |227.11          |2343955.0             |10321             |\n",
      "|2024-05-01  |Unicorn Auctions       |unicorn-auctions    |62709.5        |3.9            |209.81          |2130847.8             |10156             |\n",
      "|2024-05-01  |WhiskyAuction.com      |whiskyauctioncom    |14461.6        |0.8            |154.82          |801207.1              |5175              |\n",
      "|2024-05-01  |Whisky Auctioneer      |whiskyauctioneer    |25500.0        |15.0           |383.78          |2650776.0             |6907              |\n",
      "|2024-04-01  |Catawiki Whisky Auction|catawiki            |8700.8         |0.0            |195.49          |1024542.6             |5241              |\n",
      "|2024-04-01  |Scotch Whisky Auctions |scotchwhiskyauctions|34000.0        |15.0           |212.03          |1534455.0             |7237              |\n",
      "|2024-04-01  |Unicorn Auctions       |unicorn-auctions    |33709.2        |4.0            |236.23          |1578262.2             |6681              |\n",
      "|2024-04-01  |WhiskyAuction.com      |whiskyauctioncom    |9331.2         |0.9            |144.41          |882794.8              |6113              |\n",
      "|2024-04-01  |Whisky Auctioneer      |whiskyauctioneer    |34502.0        |15.0           |396.62          |3306252.0             |8336              |\n",
      "+------------+-----------------------+--------------------+---------------+---------------+----------------+----------------------+------------------+\n",
      "only showing top 20 rows\n",
      "\n"
     ]
    }
   ],
   "source": [
    "# кількість лотів більше 5000\n",
    "filtered_auctions = auctions_df.filter(auctions_df.auction_lots_count > 5000)\n",
    "filtered_auctions.show(truncate=False)"
   ]
  },
  {
   "cell_type": "code",
   "execution_count": 36,
   "id": "5eaee6cb-64f3-4ac1-80bc-ce46b5171e3e",
   "metadata": {},
   "outputs": [
    {
     "name": "stdout",
     "output_type": "stream",
     "text": [
      "+------------------------+------------+--------+\n",
      "|auction_name            |auction_date|max_bid |\n",
      "+------------------------+------------+--------+\n",
      "|Highland Whisky Auctions|2024-04-01  |5100.0  |\n",
      "|Just Whisky Auctions    |2024-02-01  |7500.0  |\n",
      "|The Grand Whisky Auction|2024-08-01  |4150.0  |\n",
      "|Whisky.Auction          |2024-05-01  |6400.0  |\n",
      "|Bonhams Whisky Auction  |2024-05-01  |41699.1 |\n",
      "|European Whisky Auctions|2024-04-01  |1651.4  |\n",
      "|Celtic Whiskey Auction  |2024-01-01  |2943.8  |\n",
      "|Unicorn Auctions        |2023-11-01  |20027.1 |\n",
      "|Prestige Whisky Auction |2024-01-01  |9000.0  |\n",
      "|Whiskey Bidders         |2023-11-01  |6313.3  |\n",
      "|Whisky Auctioneer       |2024-06-01  |50000.0 |\n",
      "|Unicorn Auctions        |2024-09-01  |27736.5 |\n",
      "|WhiskyAuction.com       |2024-04-01  |9331.2  |\n",
      "|Whisky Hammer           |2023-12-01  |110000.0|\n",
      "|Irish Whiskey Auctions  |2024-09-01  |3971.5  |\n",
      "|McTear’s Whisky Auction |2024-05-01  |3400.0  |\n",
      "|Catawiki Whisky Auction |2024-03-01  |6875.6  |\n",
      "|The Grand Whisky Auction|2023-12-01  |25250.0 |\n",
      "|Whisky-Online Auctions  |2024-08-01  |12200.0 |\n",
      "|Whisky Auktion Berlin   |2024-06-01  |730.1   |\n",
      "+------------------------+------------+--------+\n",
      "only showing top 20 rows\n",
      "\n"
     ]
    }
   ],
   "source": [
    "max_bid_per_auction = auctions_df.groupBy(\"auction_name\", \"auction_date\").agg(max(\"winning_bid_max\").alias(\"max_bid\"))\n",
    "max_bid_per_auction.show(truncate=False)"
   ]
  },
  {
   "cell_type": "code",
   "execution_count": null,
   "id": "534da20f-46ec-4fc9-9388-7f466aa1c541",
   "metadata": {},
   "outputs": [],
   "source": [
    "spark.stop()"
   ]
  },
  {
   "cell_type": "code",
   "execution_count": null,
   "id": "f2423aa1-ad49-4b18-9ecd-396d85cff46c",
   "metadata": {},
   "outputs": [],
   "source": []
  }
 ],
 "metadata": {
  "kernelspec": {
   "display_name": "Python 3 (ipykernel)",
   "language": "python",
   "name": "python3"
  },
  "language_info": {
   "codemirror_mode": {
    "name": "ipython",
    "version": 3
   },
   "file_extension": ".py",
   "mimetype": "text/x-python",
   "name": "python",
   "nbconvert_exporter": "python",
   "pygments_lexer": "ipython3",
   "version": "3.11.6"
  }
 },
 "nbformat": 4,
 "nbformat_minor": 5
}
